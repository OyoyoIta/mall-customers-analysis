{
 "cells": [
  {
   "cell_type": "markdown",
   "id": "bd48e29a-fb8e-4dbd-851c-787441d27b5e",
   "metadata": {},
   "source": [
    "# Mall Customers Data Analysis: Income & Spending Behavior Insights"
   ]
  },
  {
   "cell_type": "markdown",
   "id": "8419be11-ccc5-4894-bbab-163c1471be04",
   "metadata": {},
   "source": [
    "In this analysis, I explore the Customers dataset to understand customer inocme and spending patterns. The dataset contains customer demographics, annual income, and spending score data. This dataset is sourced from [Kaggle Mall Customers Dataset](https://www.kaggle.com/datasets/vjchoudhary7/customer-segmentation-tutorial-in-python)\n",
    "\n",
    "**Objective:**\n",
    "To privide insights for mall management to guide pricing, marketing, and segmentation strategies."
   ]
  },
  {
   "cell_type": "code",
   "execution_count": 36,
   "id": "b016cd6c-8402-4459-8151-601c6d3c2636",
   "metadata": {},
   "outputs": [
    {
     "data": {
      "text/html": [
       "<div>\n",
       "<style scoped>\n",
       "    .dataframe tbody tr th:only-of-type {\n",
       "        vertical-align: middle;\n",
       "    }\n",
       "\n",
       "    .dataframe tbody tr th {\n",
       "        vertical-align: top;\n",
       "    }\n",
       "\n",
       "    .dataframe thead th {\n",
       "        text-align: right;\n",
       "    }\n",
       "</style>\n",
       "<table border=\"1\" class=\"dataframe\">\n",
       "  <thead>\n",
       "    <tr style=\"text-align: right;\">\n",
       "      <th></th>\n",
       "      <th>CustomerID</th>\n",
       "      <th>Gender</th>\n",
       "      <th>Age</th>\n",
       "      <th>Annual Income (k$)</th>\n",
       "      <th>Spending Score (1-100)</th>\n",
       "    </tr>\n",
       "  </thead>\n",
       "  <tbody>\n",
       "    <tr>\n",
       "      <th>0</th>\n",
       "      <td>1</td>\n",
       "      <td>Male</td>\n",
       "      <td>19</td>\n",
       "      <td>15</td>\n",
       "      <td>39</td>\n",
       "    </tr>\n",
       "    <tr>\n",
       "      <th>1</th>\n",
       "      <td>2</td>\n",
       "      <td>Male</td>\n",
       "      <td>21</td>\n",
       "      <td>15</td>\n",
       "      <td>81</td>\n",
       "    </tr>\n",
       "    <tr>\n",
       "      <th>2</th>\n",
       "      <td>3</td>\n",
       "      <td>Female</td>\n",
       "      <td>20</td>\n",
       "      <td>16</td>\n",
       "      <td>6</td>\n",
       "    </tr>\n",
       "    <tr>\n",
       "      <th>3</th>\n",
       "      <td>4</td>\n",
       "      <td>Female</td>\n",
       "      <td>23</td>\n",
       "      <td>16</td>\n",
       "      <td>77</td>\n",
       "    </tr>\n",
       "    <tr>\n",
       "      <th>4</th>\n",
       "      <td>5</td>\n",
       "      <td>Female</td>\n",
       "      <td>31</td>\n",
       "      <td>17</td>\n",
       "      <td>40</td>\n",
       "    </tr>\n",
       "  </tbody>\n",
       "</table>\n",
       "</div>"
      ],
      "text/plain": [
       "   CustomerID  Gender  Age  Annual Income (k$)  Spending Score (1-100)\n",
       "0           1    Male   19                  15                      39\n",
       "1           2    Male   21                  15                      81\n",
       "2           3  Female   20                  16                       6\n",
       "3           4  Female   23                  16                      77\n",
       "4           5  Female   31                  17                      40"
      ]
     },
     "execution_count": 36,
     "metadata": {},
     "output_type": "execute_result"
    }
   ],
   "source": [
    "import pandas as pd\n",
    "import matplotlib.pyplot as plt\n",
    "import seaborn as sns\n",
    "import numpy as np\n",
    "\n",
    "# Load dataset\n",
    "df = pd.read_csv(\"Mall_Customers.csv\")\n",
    "df.head()"
   ]
  },
  {
   "cell_type": "markdown",
   "id": "f023c142-ff38-450b-b984-e3e7cceded18",
   "metadata": {},
   "source": [
    "## Data Inspection"
   ]
  },
  {
   "cell_type": "code",
   "execution_count": 37,
   "id": "11ad3edf-e463-4c4d-ab8f-fc1d8435b96d",
   "metadata": {},
   "outputs": [
    {
     "name": "stdout",
     "output_type": "stream",
     "text": [
      "<class 'pandas.core.frame.DataFrame'>\n",
      "RangeIndex: 200 entries, 0 to 199\n",
      "Data columns (total 5 columns):\n",
      " #   Column                  Non-Null Count  Dtype \n",
      "---  ------                  --------------  ----- \n",
      " 0   CustomerID              200 non-null    int64 \n",
      " 1   Gender                  200 non-null    object\n",
      " 2   Age                     200 non-null    int64 \n",
      " 3   Annual Income (k$)      200 non-null    int64 \n",
      " 4   Spending Score (1-100)  200 non-null    int64 \n",
      "dtypes: int64(4), object(1)\n",
      "memory usage: 7.9+ KB\n"
     ]
    }
   ],
   "source": [
    "df.info()"
   ]
  },
  {
   "cell_type": "code",
   "execution_count": 38,
   "id": "6e9dd3e3-0243-43b6-8735-7591c9993d81",
   "metadata": {},
   "outputs": [
    {
     "data": {
      "text/plain": [
       "CustomerID                0\n",
       "Gender                    0\n",
       "Age                       0\n",
       "Annual Income (k$)        0\n",
       "Spending Score (1-100)    0\n",
       "dtype: int64"
      ]
     },
     "execution_count": 38,
     "metadata": {},
     "output_type": "execute_result"
    }
   ],
   "source": [
    "df.isnull().sum()"
   ]
  },
  {
   "cell_type": "code",
   "execution_count": 39,
   "id": "4ead89cf-8e72-41b3-9e8f-08aa452f3539",
   "metadata": {},
   "outputs": [
    {
     "data": {
      "text/plain": [
       "(200, 5)"
      ]
     },
     "execution_count": 39,
     "metadata": {},
     "output_type": "execute_result"
    }
   ],
   "source": [
    "df.shape"
   ]
  },
  {
   "cell_type": "markdown",
   "id": "81c3a833-a082-4015-98dc-594451f37759",
   "metadata": {},
   "source": [
    "## Descriptive Statistics"
   ]
  },
  {
   "cell_type": "markdown",
   "id": "c468bf9e-bf7f-413e-bec9-2db043dfde37",
   "metadata": {},
   "source": [
    "### Annual Income"
   ]
  },
  {
   "cell_type": "code",
   "execution_count": 40,
   "id": "71f9060c-2d65-4553-8108-b533dece600f",
   "metadata": {},
   "outputs": [
    {
     "name": "stdout",
     "output_type": "stream",
     "text": [
      "Mean Annual Income: 60.56\n",
      "Median Annual Income: 61.5\n",
      "Mode Annual Income: 54\n",
      "Variance of Annual Income: 689.8355778894472\n",
      "Standard deviation of Annual Income: 26.264721165271244\n"
     ]
    }
   ],
   "source": [
    "# Mean, Median, Mode, Variance, Standard Deviation of Annual Income\n",
    "mean_annual_income = df[\"Annual Income (k$)\"].mean()\n",
    "median_annual_income = df[\"Annual Income (k$)\"].median()\n",
    "mode_annual_income = df[\"Annual Income (k$)\"].mode()[0]\n",
    "annual_income_var = df[\"Annual Income (k$)\"].var()\n",
    "annual_income_std = df[\"Annual Income (k$)\"].std()\n",
    "\n",
    "print(\"Mean Annual Income: {}\".format(mean_annual_income))\n",
    "print(\"Median Annual Income: {}\".format(median_annual_income))\n",
    "print(\"Mode Annual Income: {}\".format(mode_annual_income))\n",
    "print(\"Variance of Annual Income: {}\".format(annual_income_var))\n",
    "print(\"Standard deviation of Annual Income: {}\".format(annual_income_std))"
   ]
  },
  {
   "cell_type": "markdown",
   "id": "82068ce2-f0fa-43cb-b8be-7054895bdb17",
   "metadata": {},
   "source": [
    "### Spending Score"
   ]
  },
  {
   "cell_type": "code",
   "execution_count": 41,
   "id": "2cdfcbc1-4b4a-45ea-b199-19060daa82cb",
   "metadata": {},
   "outputs": [
    {
     "name": "stdout",
     "output_type": "stream",
     "text": [
      "Mean Spending Score: 50.2\n",
      "Median Spending Score: 50.0\n",
      "Mode Spending Score: 42\n",
      "Spending Score Variance: 666.8542713567839\n",
      "Spending Score Standatd Deviation: 25.823521668370173\n"
     ]
    }
   ],
   "source": [
    "# Mean, Median, Mode, Variance, Standard Deviation of Spending Score\n",
    "mean_spending_score = df[\"Spending Score (1-100)\"].mean()\n",
    "median_spending_score = df[\"Spending Score (1-100)\"].median()\n",
    "mode_spending_score = df[\"Spending Score (1-100)\"].mode()[0]\n",
    "spending_score_var = df[\"Spending Score (1-100)\"].var()\n",
    "spending_score_std = df[\"Spending Score (1-100)\"].std()\n",
    "\n",
    "print(\"Mean Spending Score: {}\".format(mean_spending_score))\n",
    "print(\"Median Spending Score: {}\".format(median_spending_score))\n",
    "print(\"Mode Spending Score: {}\".format(mode_spending_score))\n",
    "print(\"Spending Score Variance: {}\".format(spending_score_var))\n",
    "print(\"Spending Score Standatd Deviation: {}\".format(spending_score_std))"
   ]
  },
  {
   "cell_type": "markdown",
   "id": "5539811c-8f19-4738-8fd7-3e8a6f6c9255",
   "metadata": {},
   "source": [
    "## IQR and Outlier Detection"
   ]
  },
  {
   "cell_type": "markdown",
   "id": "fe9dcbc5-6d8f-40cc-bd7c-a6a43455c828",
   "metadata": {},
   "source": [
    "### Spending Score"
   ]
  },
  {
   "cell_type": "code",
   "execution_count": 42,
   "id": "7b6cc733-bc9e-4d4a-9319-ee8e029091f2",
   "metadata": {},
   "outputs": [
    {
     "data": {
      "text/html": [
       "<div>\n",
       "<style scoped>\n",
       "    .dataframe tbody tr th:only-of-type {\n",
       "        vertical-align: middle;\n",
       "    }\n",
       "\n",
       "    .dataframe tbody tr th {\n",
       "        vertical-align: top;\n",
       "    }\n",
       "\n",
       "    .dataframe thead th {\n",
       "        text-align: right;\n",
       "    }\n",
       "</style>\n",
       "<table border=\"1\" class=\"dataframe\">\n",
       "  <thead>\n",
       "    <tr style=\"text-align: right;\">\n",
       "      <th></th>\n",
       "      <th>CustomerID</th>\n",
       "      <th>Gender</th>\n",
       "      <th>Age</th>\n",
       "      <th>Annual Income (k$)</th>\n",
       "      <th>Spending Score (1-100)</th>\n",
       "    </tr>\n",
       "  </thead>\n",
       "  <tbody>\n",
       "  </tbody>\n",
       "</table>\n",
       "</div>"
      ],
      "text/plain": [
       "Empty DataFrame\n",
       "Columns: [CustomerID, Gender, Age, Annual Income (k$), Spending Score (1-100)]\n",
       "Index: []"
      ]
     },
     "execution_count": 42,
     "metadata": {},
     "output_type": "execute_result"
    }
   ],
   "source": [
    "# Spending Score Q1, Q2, and Q3\n",
    "spending_score_q1 = df[\"Spending Score (1-100)\"].quantile(.25)\n",
    "spending_score_q2 = df[\"Spending Score (1-100)\"].quantile(.50)\n",
    "spending_score_q3 = df[\"Spending Score (1-100)\"].quantile(.75)\n",
    "\n",
    "# Spending Score IQR, lower bound, and upper bound\n",
    "spending_score_iqr = spending_score_q3 - spending_score_q1\n",
    "spending_score_lower_bound = spending_score_q1 - 1.5*(spending_score_iqr)\n",
    "spending_score_upper_bound = spending_score_q3 + 1.5*(spending_score_iqr)\n",
    "\n",
    "# Spending Score Outliers\n",
    "df_spending_score_outlier = df[(df[\"Spending Score (1-100)\"] < spending_score_lower_bound) | (df[\"Spending Score (1-100)\"] > spending_score_upper_bound)]\n",
    "df_spending_score_outlier"
   ]
  },
  {
   "cell_type": "code",
   "execution_count": 43,
   "id": "2fe3356b-5db8-40d8-ab81-e04d08999be8",
   "metadata": {},
   "outputs": [
    {
     "name": "stdout",
     "output_type": "stream",
     "text": [
      "Maximum Spending Score:  99\n",
      "Minimum Spending Score:  1\n"
     ]
    }
   ],
   "source": [
    "# Max and Min of Spending Score\n",
    "max_spending_score = df[\"Spending Score (1-100)\"].max()\n",
    "min_spending_score = df[\"Spending Score (1-100)\"].min()\n",
    "\n",
    "print(\"Maximum Spending Score: \", max_spending_score)\n",
    "print(\"Minimum Spending Score: \", min_spending_score)"
   ]
  },
  {
   "cell_type": "markdown",
   "id": "be429e06-38f6-44e1-b2f3-dc60326035e1",
   "metadata": {},
   "source": [
    "### Annual Income"
   ]
  },
  {
   "cell_type": "code",
   "execution_count": 44,
   "id": "7aa5fd0a-71cc-4b5e-b20f-69ff4507c203",
   "metadata": {},
   "outputs": [
    {
     "data": {
      "text/html": [
       "<div>\n",
       "<style scoped>\n",
       "    .dataframe tbody tr th:only-of-type {\n",
       "        vertical-align: middle;\n",
       "    }\n",
       "\n",
       "    .dataframe tbody tr th {\n",
       "        vertical-align: top;\n",
       "    }\n",
       "\n",
       "    .dataframe thead th {\n",
       "        text-align: right;\n",
       "    }\n",
       "</style>\n",
       "<table border=\"1\" class=\"dataframe\">\n",
       "  <thead>\n",
       "    <tr style=\"text-align: right;\">\n",
       "      <th></th>\n",
       "      <th>CustomerID</th>\n",
       "      <th>Gender</th>\n",
       "      <th>Age</th>\n",
       "      <th>Annual Income (k$)</th>\n",
       "      <th>Spending Score (1-100)</th>\n",
       "    </tr>\n",
       "  </thead>\n",
       "  <tbody>\n",
       "    <tr>\n",
       "      <th>198</th>\n",
       "      <td>199</td>\n",
       "      <td>Male</td>\n",
       "      <td>32</td>\n",
       "      <td>137</td>\n",
       "      <td>18</td>\n",
       "    </tr>\n",
       "    <tr>\n",
       "      <th>199</th>\n",
       "      <td>200</td>\n",
       "      <td>Male</td>\n",
       "      <td>30</td>\n",
       "      <td>137</td>\n",
       "      <td>83</td>\n",
       "    </tr>\n",
       "  </tbody>\n",
       "</table>\n",
       "</div>"
      ],
      "text/plain": [
       "     CustomerID Gender  Age  Annual Income (k$)  Spending Score (1-100)\n",
       "198         199   Male   32                 137                      18\n",
       "199         200   Male   30                 137                      83"
      ]
     },
     "execution_count": 44,
     "metadata": {},
     "output_type": "execute_result"
    }
   ],
   "source": [
    "# Annual Income Q1, Q2, and Q3\n",
    "income_q1 = df[\"Annual Income (k$)\"].quantile(.25)\n",
    "income_q2 = df[\"Annual Income (k$)\"].quantile(.50)\n",
    "income_q3 = df[\"Annual Income (k$)\"].quantile(.75)\n",
    "\n",
    "# Annual Income IQR, lower bound, and upper bound\n",
    "income_iqr = income_q3 - income_q1\n",
    "income_lower_bound = income_q1 - 1.5*(income_iqr)\n",
    "income_upper_bound = income_q3 + 1.5*(income_iqr)\n",
    "\n",
    "# Annual Income Outliers\n",
    "df_income_outlier = df[(df[\"Annual Income (k$)\"] < income_lower_bound) | (df[\"Annual Income (k$)\"] > income_upper_bound)]\n",
    "df_income_outlier"
   ]
  },
  {
   "cell_type": "code",
   "execution_count": 45,
   "id": "9c37d60e-385c-4a6d-8d6d-57eabec92b18",
   "metadata": {},
   "outputs": [
    {
     "name": "stdout",
     "output_type": "stream",
     "text": [
      "Maximum Annual Income without outliers:  126\n",
      "Minimum Annual Income without outliers:  15\n"
     ]
    }
   ],
   "source": [
    "# DataSet without Annual Income Outliers\n",
    "df_without_income_outlier = df[(df[\"Annual Income (k$)\"] > income_lower_bound) & (df[\"Annual Income (k$)\"] < income_upper_bound)]\n",
    "\n",
    "# Max and Min of Dataset without Annual Income Outliers\n",
    "print(\"Maximum Annual Income without outliers: \", df_without_income_outlier[\"Annual Income (k$)\"].max())\n",
    "print(\"Minimum Annual Income without outliers: \", df_without_income_outlier[\"Annual Income (k$)\"].min())"
   ]
  },
  {
   "cell_type": "markdown",
   "id": "844cbb3f-a9f2-4d9d-b2e0-b59cfce5edaa",
   "metadata": {},
   "source": [
    "## Skewness and Kurtosis"
   ]
  },
  {
   "cell_type": "markdown",
   "id": "dd7746cc-2a06-4660-a856-4cb9cd9648d6",
   "metadata": {},
   "source": [
    "### Spending Score"
   ]
  },
  {
   "cell_type": "code",
   "execution_count": 46,
   "id": "cb958bd2-0594-4252-9eb5-3939b0356a50",
   "metadata": {},
   "outputs": [
    {
     "name": "stdout",
     "output_type": "stream",
     "text": [
      "Spending Score Skewness:  -0.047220201374263374\n",
      "Spending Score Kurtosis:  -0.8266291062061502\n"
     ]
    }
   ],
   "source": [
    "# Skewness and Kurtosis of Spending Score\n",
    "spending_score_skewness = df[\"Spending Score (1-100)\"].skew()\n",
    "spending_score_kurtosis = df[\"Spending Score (1-100)\"].kurt()\n",
    "\n",
    "print(\"Spending Score Skewness: \", spending_score_skewness)\n",
    "print(\"Spending Score Kurtosis: \", spending_score_kurtosis)"
   ]
  },
  {
   "cell_type": "markdown",
   "id": "8538c58c-167c-42fb-bff5-b21ba58a22cc",
   "metadata": {},
   "source": [
    "### Annual Income"
   ]
  },
  {
   "cell_type": "code",
   "execution_count": 47,
   "id": "90a86863-c855-4da8-aaf4-d90905fdda6a",
   "metadata": {},
   "outputs": [
    {
     "name": "stdout",
     "output_type": "stream",
     "text": [
      "Annual Income Skewness:  0.3218425498619055\n",
      "Annual Income Kurtosis:  -0.09848708652696203\n"
     ]
    }
   ],
   "source": [
    "# Skewness and Kurtosis of Annual Income\n",
    "annual_income_skewness = df[\"Annual Income (k$)\"].skew()\n",
    "annual_income_kurtosis = df[\"Annual Income (k$)\"].kurt()\n",
    "\n",
    "print(\"Annual Income Skewness: \", annual_income_skewness)\n",
    "print(\"Annual Income Kurtosis: \", annual_income_kurtosis)"
   ]
  },
  {
   "cell_type": "markdown",
   "id": "9922e601-2093-4bc3-a3a0-176438039301",
   "metadata": {},
   "source": [
    "## Visualizations"
   ]
  },
  {
   "cell_type": "markdown",
   "id": "4d7327ff-c6a5-4015-9fa4-efd4b777d4bb",
   "metadata": {},
   "source": [
    "### Histogram of Annual Income"
   ]
  },
  {
   "cell_type": "code",
   "execution_count": 48,
   "id": "4cdb02b2-b654-4886-b1fe-fa0937bded68",
   "metadata": {},
   "outputs": [
    {
     "data": {
      "text/plain": [
       "Text(0.5, 1.0, 'Distribution of Annual Income')"
      ]
     },
     "execution_count": 48,
     "metadata": {},
     "output_type": "execute_result"
    },
    {
     "data": {
      "image/png": "[encoded data removed]",
      "text/plain": [
       "<Figure size 1000x500 with 1 Axes>"
      ]
     },
     "metadata": {},
     "output_type": "display_data"
    }
   ],
   "source": [
    "plt.figure(figsize = (10,5))\n",
    "sns.histplot(df[\"Annual Income (k$)\"], bins = 30, kde = True)\n",
    "plt.title(\"Distribution of Annual Income\")"
   ]
  },
  {
   "cell_type": "markdown",
   "id": "68e05e21-a596-4356-9845-05dfd7be71a5",
   "metadata": {},
   "source": [
    "### Box Plot of Spending Score"
   ]
  },
  {
   "cell_type": "code",
   "execution_count": 49,
   "id": "cc1e267a-5619-4864-a8f3-aded55860100",
   "metadata": {},
   "outputs": [
    {
     "data": {
      "text/plain": [
       "Text(0.5, 1.0, 'Box Plot of Spending Score')"
      ]
     },
     "execution_count": 49,
     "metadata": {},
     "output_type": "execute_result"
    },
    {
     "data": {
      "image/png": "[encoded data removed]",
      "text/plain": [
       "<Figure size 1000x500 with 1 Axes>"
      ]
     },
     "metadata": {},
     "output_type": "display_data"
    }
   ],
   "source": [
    "plt.figure(figsize = (10,5))\n",
    "sns.boxplot(x = df[\"Spending Score (1-100)\"])\n",
    "plt.title(\"Box Plot of Spending Score\")"
   ]
  },
  {
   "cell_type": "markdown",
   "id": "5dd83525-d283-40b7-903e-8b9ac04b154a",
   "metadata": {},
   "source": [
    "## Insights and Recommendations"
   ]
  },
  {
   "cell_type": "markdown",
   "id": "7df04ca6-8ab8-43f5-a4eb-14363d5734fa",
   "metadata": {},
   "source": [
    "**Insights:**\n",
    "- The average customer's Annual income is \\\\$60,560 with a slight skew sugggesting that most customers are middle-income earners.\n",
    "- Spending Scores are evenly distributed, indicating diverse customer behaviour.\n",
    "\n",
    "**Recommendations:**\n",
    "\n",
    "- Segment customers by spending score for targeted marketing.\n",
    "- Consider premium services for high-income earners."
   ]
  },
  {
   "cell_type": "markdown",
   "id": "c46db8cb-aaaf-479f-8dc6-a833e68f0c83",
   "metadata": {},
   "source": [
    "## Conclusion"
   ]
  },
  {
   "cell_type": "markdown",
   "id": "e8fb2f53-aa61-46fc-8955-531fdede9054",
   "metadata": {},
   "source": [
    "The analysis provides key insights into mall customers' income and spending behaviour to inform marketing and pricing decisions for optimized customer engagement"
   ]
  },
  {
   "cell_type": "code",
   "execution_count": null,
   "id": "1488d7a5-639e-4a1b-b5df-6a31ff181635",
   "metadata": {},
   "outputs": [],
   "source": []
  }
 ],
 "metadata": {
  "kernelspec": {
   "display_name": "Python 3 (ipykernel)",
   "language": "python",
   "name": "python3"
  },
  "language_info": {
   "codemirror_mode": {
    "name": "ipython",
    "version": 3
   },
   "file_extension": ".py",
   "mimetype": "text/x-python",
   "name": "python",
   "nbconvert_exporter": "python",
   "pygments_lexer": "ipython3",
   "version": "3.12.6"
  }
 },
 "nbformat": 4,
 "nbformat_minor": 5
}
